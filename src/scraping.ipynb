{
 "cells": [
  {
   "cell_type": "code",
   "execution_count": 7,
   "id": "f7c2eb16",
   "metadata": {},
   "outputs": [],
   "source": [
    "import os\n",
    "import asyncio\n",
    "from dotenv import load_dotenv\n",
    "from telethon.sync import TelegramClient\n",
    "from telethon.tl.types import MessageMediaPhoto\n",
    "import nest_asyncio\n",
    "import json\n",
    "from datetime import datetime\n",
    "\n",
    "# This is needed for running async telethon code in a Jupyter Notebook\n",
    "nest_asyncio.apply()\n"
   ]
  },
  {
   "cell_type": "code",
   "execution_count": 2,
   "id": "2c52f5d6",
   "metadata": {},
   "outputs": [
    {
     "name": "stdout",
     "output_type": "stream",
     "text": [
      "Credentials loaded successfully.\n"
     ]
    }
   ],
   "source": [
    "# --- Load Credentials ---\n",
    "\n",
    "load_dotenv()\n",
    "\n",
    "API_ID = os.getenv('TELEGRAM_API_ID')\n",
    "API_HASH = os.getenv('TELEGRAM_API_HASH')\n",
    "SESSION_NAME = os.getenv('TELEGRAM_SESSION_NAME', 'my_notebook_session')\n",
    "\n",
    "# Check if credentials were loaded\n",
    "if not all([API_ID, API_HASH]):\n",
    "    print(\"ERROR: Could not find TELEGRAM_API_ID or TELEGRAM_API_HASH.\")\n",
    "    print(\"Please make sure you have a .env file with these values.\")\n",
    "else:\n",
    "    print(\"Credentials loaded successfully.\")\n"
   ]
  },
  {
   "cell_type": "code",
   "execution_count": 3,
   "id": "ad6b1441",
   "metadata": {},
   "outputs": [],
   "source": [
    "# --- Step 4: Define the scraping function ---\n",
    "\n",
    "async def scrape_channel_fully(client, channel_username, limit=50):\n",
    "    print(f\"Scraping messages from {channel_username}...\")\n",
    "    \n",
    "    # 1. DEFINE THE CORRECT PARTITIONED DIRECTORY PATH\n",
    "    today_str = datetime.utcnow().strftime('%Y-%m-%d')\n",
    "    # This creates the full path like: data/raw/telegram_messages/2025-07-15/lobelia4cosmetics\n",
    "    output_dir = os.path.join(\"data\", \"raw\", \"telegram_messages\", today_str, channel_username)\n",
    "    os.makedirs(output_dir, exist_ok=True) # Create the directories if they don't exist\n",
    "    \n",
    "    messages = await client.get_messages(channel_username, limit=limit)\n",
    "    \n",
    "    print(f\"Found {len(messages)} messages. Processing and saving...\")\n",
    "    \n",
    "    for message in messages:\n",
    "        # Type hint for clarity\n",
    "        message: Message\n",
    "        \n",
    "        # 2. CONVERT THE ENTIRE MESSAGE TO A DICTIONARY TO CAPTURE ALL DATA\n",
    "        message_data = message.to_dict()\n",
    "        \n",
    "        # 3. HANDLE IMAGE DOWNLOADS\n",
    "        # Check if there's a photo and download it to the correct directory\n",
    "        if message.photo:\n",
    "            # Define where the image will be saved\n",
    "            image_save_path = os.path.join(output_dir, f\"{message.id}.jpg\")\n",
    "            print(f\"  - Downloading image for message {message.id} to {image_save_path}\")\n",
    "            try:\n",
    "                await message.download_media(file=image_save_path)\n",
    "            except Exception as e:\n",
    "                print(f\"  - [ERROR] Could not download image: {e}\")\n",
    "        \n",
    "        # 4. SAVE THE MESSAGE METADATA AS A JSON FILE\n",
    "        # This is the most critical missing piece.\n",
    "        json_file_path = os.path.join(output_dir, f\"{message.id}.json\")\n",
    "        print(f\"  - Saving metadata for message {message.id} to {json_file_path}\")\n",
    "        try:\n",
    "            with open(json_file_path, 'w', encoding='utf-8') as f:\n",
    "                # 'default=str' helps handle data types that aren't naturally JSON-friendly\n",
    "                json.dump(message_data, f, ensure_ascii=False, indent=4, default=str)\n",
    "        except Exception as e:\n",
    "            print(f\"  - [ERROR] Could not save JSON file: {e}\")\n",
    "\n",
    "    print(f\"Finished scraping {channel_username}.\\n\")"
   ]
  },
  {
   "cell_type": "code",
   "execution_count": 9,
   "id": "5731acca",
   "metadata": {},
   "outputs": [],
   "source": [
    "async def main():\n",
    "    client = TelegramClient(SESSION_NAME, API_ID, API_HASH)\n",
    "    \n",
    "    await client.start()\n",
    "    print(\"Client Connected.\")\n",
    "    \n",
    "    # Scrape all desired channels\n",
    "    channels_to_scrape = [\"tikvahpharma\"]\n",
    "    for channel in channels_to_scrape:\n",
    "        await scrape_channel_fully(client, channel, limit=50)\n",
    "\n",
    "    await client.disconnect()\n",
    "    print(\"Client Disconnected.\")"
   ]
  },
  {
   "cell_type": "code",
   "execution_count": 10,
   "id": "dc792ca5",
   "metadata": {},
   "outputs": [
    {
     "name": "stdout",
     "output_type": "stream",
     "text": [
      "Client Connected.\n",
      "Scraping messages from tikvahpharma...\n"
     ]
    },
    {
     "name": "stderr",
     "output_type": "stream",
     "text": [
      "C:\\Users\\Yoga i7\\AppData\\Local\\Temp\\ipykernel_11320\\1970527138.py:7: DeprecationWarning: datetime.datetime.utcnow() is deprecated and scheduled for removal in a future version. Use timezone-aware objects to represent datetimes in UTC: datetime.datetime.now(datetime.UTC).\n",
      "  today_str = datetime.utcnow().strftime('%Y-%m-%d')\n"
     ]
    },
    {
     "name": "stdout",
     "output_type": "stream",
     "text": [
      "Found 50 messages. Processing and saving...\n",
      "  - Saving metadata for message 172824 to data\\raw\\telegram_messages\\2025-07-16\\tikvahpharma\\172824.json\n",
      "  - Saving metadata for message 172822 to data\\raw\\telegram_messages\\2025-07-16\\tikvahpharma\\172822.json\n",
      "  - Saving metadata for message 172815 to data\\raw\\telegram_messages\\2025-07-16\\tikvahpharma\\172815.json\n",
      "  - Saving metadata for message 172811 to data\\raw\\telegram_messages\\2025-07-16\\tikvahpharma\\172811.json\n",
      "  - Downloading image for message 172810 to data\\raw\\telegram_messages\\2025-07-16\\tikvahpharma\\172810.jpg\n",
      "  - Saving metadata for message 172810 to data\\raw\\telegram_messages\\2025-07-16\\tikvahpharma\\172810.json\n",
      "  - Downloading image for message 172809 to data\\raw\\telegram_messages\\2025-07-16\\tikvahpharma\\172809.jpg\n",
      "  - Saving metadata for message 172809 to data\\raw\\telegram_messages\\2025-07-16\\tikvahpharma\\172809.json\n",
      "  - Downloading image for message 172808 to data\\raw\\telegram_messages\\2025-07-16\\tikvahpharma\\172808.jpg\n",
      "  - Saving metadata for message 172808 to data\\raw\\telegram_messages\\2025-07-16\\tikvahpharma\\172808.json\n",
      "  - Downloading image for message 172805 to data\\raw\\telegram_messages\\2025-07-16\\tikvahpharma\\172805.jpg\n",
      "  - Saving metadata for message 172805 to data\\raw\\telegram_messages\\2025-07-16\\tikvahpharma\\172805.json\n",
      "  - Saving metadata for message 172803 to data\\raw\\telegram_messages\\2025-07-16\\tikvahpharma\\172803.json\n",
      "  - Downloading image for message 172797 to data\\raw\\telegram_messages\\2025-07-16\\tikvahpharma\\172797.jpg\n",
      "  - Saving metadata for message 172797 to data\\raw\\telegram_messages\\2025-07-16\\tikvahpharma\\172797.json\n",
      "  - Saving metadata for message 172796 to data\\raw\\telegram_messages\\2025-07-16\\tikvahpharma\\172796.json\n",
      "  - Saving metadata for message 172795 to data\\raw\\telegram_messages\\2025-07-16\\tikvahpharma\\172795.json\n",
      "  - Saving metadata for message 172791 to data\\raw\\telegram_messages\\2025-07-16\\tikvahpharma\\172791.json\n",
      "  - Saving metadata for message 172789 to data\\raw\\telegram_messages\\2025-07-16\\tikvahpharma\\172789.json\n",
      "  - Saving metadata for message 172787 to data\\raw\\telegram_messages\\2025-07-16\\tikvahpharma\\172787.json\n",
      "  - Saving metadata for message 172784 to data\\raw\\telegram_messages\\2025-07-16\\tikvahpharma\\172784.json\n",
      "  - Saving metadata for message 172779 to data\\raw\\telegram_messages\\2025-07-16\\tikvahpharma\\172779.json\n",
      "  - Downloading image for message 172778 to data\\raw\\telegram_messages\\2025-07-16\\tikvahpharma\\172778.jpg\n",
      "  - Saving metadata for message 172778 to data\\raw\\telegram_messages\\2025-07-16\\tikvahpharma\\172778.json\n",
      "  - Saving metadata for message 172775 to data\\raw\\telegram_messages\\2025-07-16\\tikvahpharma\\172775.json\n",
      "  - Saving metadata for message 172774 to data\\raw\\telegram_messages\\2025-07-16\\tikvahpharma\\172774.json\n",
      "  - Downloading image for message 172773 to data\\raw\\telegram_messages\\2025-07-16\\tikvahpharma\\172773.jpg\n",
      "  - Saving metadata for message 172773 to data\\raw\\telegram_messages\\2025-07-16\\tikvahpharma\\172773.json\n",
      "  - Downloading image for message 172770 to data\\raw\\telegram_messages\\2025-07-16\\tikvahpharma\\172770.jpg\n",
      "  - Saving metadata for message 172770 to data\\raw\\telegram_messages\\2025-07-16\\tikvahpharma\\172770.json\n",
      "  - Downloading image for message 172769 to data\\raw\\telegram_messages\\2025-07-16\\tikvahpharma\\172769.jpg\n",
      "  - Saving metadata for message 172769 to data\\raw\\telegram_messages\\2025-07-16\\tikvahpharma\\172769.json\n",
      "  - Saving metadata for message 172768 to data\\raw\\telegram_messages\\2025-07-16\\tikvahpharma\\172768.json\n",
      "  - Saving metadata for message 172767 to data\\raw\\telegram_messages\\2025-07-16\\tikvahpharma\\172767.json\n",
      "  - Downloading image for message 172766 to data\\raw\\telegram_messages\\2025-07-16\\tikvahpharma\\172766.jpg\n",
      "  - Saving metadata for message 172766 to data\\raw\\telegram_messages\\2025-07-16\\tikvahpharma\\172766.json\n",
      "  - Saving metadata for message 172763 to data\\raw\\telegram_messages\\2025-07-16\\tikvahpharma\\172763.json\n",
      "  - Saving metadata for message 172762 to data\\raw\\telegram_messages\\2025-07-16\\tikvahpharma\\172762.json\n",
      "  - Downloading image for message 172754 to data\\raw\\telegram_messages\\2025-07-16\\tikvahpharma\\172754.jpg\n",
      "  - Saving metadata for message 172754 to data\\raw\\telegram_messages\\2025-07-16\\tikvahpharma\\172754.json\n",
      "  - Saving metadata for message 172737 to data\\raw\\telegram_messages\\2025-07-16\\tikvahpharma\\172737.json\n",
      "  - Saving metadata for message 172735 to data\\raw\\telegram_messages\\2025-07-16\\tikvahpharma\\172735.json\n",
      "  - Saving metadata for message 172734 to data\\raw\\telegram_messages\\2025-07-16\\tikvahpharma\\172734.json\n",
      "  - Downloading image for message 172730 to data\\raw\\telegram_messages\\2025-07-16\\tikvahpharma\\172730.jpg\n",
      "  - Saving metadata for message 172730 to data\\raw\\telegram_messages\\2025-07-16\\tikvahpharma\\172730.json\n",
      "  - Saving metadata for message 172726 to data\\raw\\telegram_messages\\2025-07-16\\tikvahpharma\\172726.json\n",
      "  - Saving metadata for message 172720 to data\\raw\\telegram_messages\\2025-07-16\\tikvahpharma\\172720.json\n",
      "  - Saving metadata for message 172717 to data\\raw\\telegram_messages\\2025-07-16\\tikvahpharma\\172717.json\n",
      "  - Saving metadata for message 172714 to data\\raw\\telegram_messages\\2025-07-16\\tikvahpharma\\172714.json\n",
      "  - Downloading image for message 172713 to data\\raw\\telegram_messages\\2025-07-16\\tikvahpharma\\172713.jpg\n",
      "  - Saving metadata for message 172713 to data\\raw\\telegram_messages\\2025-07-16\\tikvahpharma\\172713.json\n",
      "  - Saving metadata for message 172706 to data\\raw\\telegram_messages\\2025-07-16\\tikvahpharma\\172706.json\n",
      "  - Saving metadata for message 172705 to data\\raw\\telegram_messages\\2025-07-16\\tikvahpharma\\172705.json\n",
      "  - Saving metadata for message 172702 to data\\raw\\telegram_messages\\2025-07-16\\tikvahpharma\\172702.json\n",
      "  - Saving metadata for message 172695 to data\\raw\\telegram_messages\\2025-07-16\\tikvahpharma\\172695.json\n",
      "  - Saving metadata for message 172692 to data\\raw\\telegram_messages\\2025-07-16\\tikvahpharma\\172692.json\n",
      "  - Saving metadata for message 172689 to data\\raw\\telegram_messages\\2025-07-16\\tikvahpharma\\172689.json\n",
      "  - Saving metadata for message 172686 to data\\raw\\telegram_messages\\2025-07-16\\tikvahpharma\\172686.json\n",
      "  - Saving metadata for message 172684 to data\\raw\\telegram_messages\\2025-07-16\\tikvahpharma\\172684.json\n",
      "  - Saving metadata for message 172679 to data\\raw\\telegram_messages\\2025-07-16\\tikvahpharma\\172679.json\n",
      "  - Saving metadata for message 172678 to data\\raw\\telegram_messages\\2025-07-16\\tikvahpharma\\172678.json\n",
      "  - Downloading image for message 172677 to data\\raw\\telegram_messages\\2025-07-16\\tikvahpharma\\172677.jpg\n",
      "  - Saving metadata for message 172677 to data\\raw\\telegram_messages\\2025-07-16\\tikvahpharma\\172677.json\n",
      "  - Downloading image for message 172676 to data\\raw\\telegram_messages\\2025-07-16\\tikvahpharma\\172676.jpg\n",
      "  - Saving metadata for message 172676 to data\\raw\\telegram_messages\\2025-07-16\\tikvahpharma\\172676.json\n",
      "Finished scraping tikvahpharma.\n",
      "\n",
      "Client Disconnected.\n"
     ]
    }
   ],
   "source": [
    "# --- Step 6: Run the main function ---\n",
    "# This will execute the entire process.\n",
    "\n",
    "loop = asyncio.get_event_loop()\n",
    "loop.run_until_complete(main())"
   ]
  }
 ],
 "metadata": {
  "kernelspec": {
   "display_name": "venv",
   "language": "python",
   "name": "python3"
  },
  "language_info": {
   "codemirror_mode": {
    "name": "ipython",
    "version": 3
   },
   "file_extension": ".py",
   "mimetype": "text/x-python",
   "name": "python",
   "nbconvert_exporter": "python",
   "pygments_lexer": "ipython3",
   "version": "3.13.3"
  }
 },
 "nbformat": 4,
 "nbformat_minor": 5
}
